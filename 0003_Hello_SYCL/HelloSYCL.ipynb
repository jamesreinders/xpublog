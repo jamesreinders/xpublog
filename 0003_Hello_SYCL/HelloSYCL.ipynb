{
 "cells": [
  {
   "cell_type": "markdown",
   "metadata": {},
   "source": [
    "# Hello SYCL and DPC++"
   ]
  },
  {
   "cell_type": "markdown",
   "metadata": {},
   "source": [
    "***\n",
    "In this xpublog, we meet Nermal the kitten and his favorite book (<a href=\"https://link.springer.com/book/10.1007%2F978-1-4842-5574-2\" target=\"_blank\">Data Parallel C++</a>).  We use a SYCL kernel to lighten him up (his image is a little tensor).\n",
    "\n",
    "Completing this notebook counts toward our daily goals for viewing some cute kitten images/videos on the internet.\n",
    "\n",
    "***\n",
    "\n",
    "##  New to Jupyter?\n",
    "\n",
    "For the most part... just click the run icon (▶) in the little panel of buttons at the top of this browser pane. The panel looks something like this (where play is the sixth item):<br/><img src=\"Assets/jupyter.buttons.png\">\n",
    "    \n",
    "Click the ▶ button over and over... and soon you will have compiled, run, and viewed the output of this SYCL program compiled by the DPC++ compiler.  Now that you know about the little panel of buttons, you should be unstoppable.\n",
    "    \n",
    "\n",
    "***\n",
    "\n",
    "##  Editing the hello.cpp code\n",
    "The Jupyter cell below with the gray background can be edited in-place and saved.\n",
    "\n",
    "The first line of the cell contains the command **%%writefile 'hello.cpp'** This tells the input cell to save the contents of the cell into a file named 'simple.cpp' in your current directory (usually your home directory). As we edit the cell and run it in the Jupyter notebook, it will save our changes into that file.\n",
    "\n",
    "The code below is some DPC++ code to get us started in the DevCloud environment. We can simply inspect the code - it is ready to run, no modifications necessary. Run the first cell to create the file, then run the cell below it to compile and execute the code.\n",
    "1. Inspect the code cell below, then click run ▶ to save the code to a file\n",
    "2. Run ▶ the cell in the __Build and Run__ section below the code snippet to compile and execute the code in the saved file"
   ]
  },
  {
   "cell_type": "code",
   "execution_count": null,
   "metadata": {},
   "outputs": [],
   "source": [
    "%%writefile lab/hello.cpp\n",
    "//==============================================================\n",
    "// Copyright © 2021 Intel Corporation\n",
    "//\n",
    "// SPDX-License-Identifier: MIT\n",
    "// =============================================================\n",
    "#include <opencv2/core.hpp>\n",
    "#include <opencv2/imgcodecs.hpp>\n",
    "#include <opencv2/highgui.hpp>\n",
    "#include <iostream>\n",
    "#include <algorithm>\n",
    "#include <CL/sycl.hpp>\n",
    "\n",
    "using namespace cv;\n",
    "using namespace std;\n",
    "using namespace sycl;\n",
    "\n",
    "int main(){\n",
    "  string image_path = \"NermalWithBook540.jpg\";\n",
    "    \n",
    "  //# define queue which has default device associated for offload\n",
    "  queue q;\n",
    "  // for this exercise, we did not control what type of device we are offloading to,\n",
    "  // so this output will tell us what we were assigned\n",
    "  std::cout << \"Device: \" << q.get_device().get_info<info::device::name>() << std::endl;\n",
    "\n",
    "  Mat img = imread(image_path, IMREAD_COLOR);\n",
    "  if(img.empty()) {\n",
    "    std::cout << \"Could not read the image: \" << image_path << std::endl;\n",
    "    return 1;\n",
    "  }\n",
    "\n",
    "#if 0\n",
    "  // the SYCL kernel, after the endif, will do the same as this C++ code would do\n",
    "  for( int y = 0; y < img.rows; y++ ) {\n",
    "    for( int x = 0; x < img.cols; x++ ) {\n",
    "      for( int c = 0; c < img.channels(); c++ ) {\n",
    "        img.at<Vec3b>(y,x)[c] =\n",
    "          clamp( img.at<Vec3b>(y,x)[c] + 50, 0, 255 );\n",
    "      }\n",
    "    }\n",
    "  }\n",
    "#endif\n",
    "  {\n",
    "    CV_Assert(img.isContinuous());\n",
    "    CV_CheckTypeEQ(img.type(), CV_8UC3, \"\");\n",
    "    buffer<uint8_t, 3> frame_buffer(img.data, range<3>(img.rows, img.cols, 3));\n",
    "\n",
    "    q.submit([&](handler& cgh) {\n",
    "      auto pixels = frame_buffer.get_access<access::mode::read_write>(cgh);\n",
    "      cgh.parallel_for(range<3>(img.rows, img.cols, 3), [=](item<3> item) {\n",
    "        uint8_t p = pixels[item];\n",
    "        pixels[item] = sycl::clamp(p+50,0,255);\n",
    "      });\n",
    "    });\n",
    "    q.wait_and_throw();\n",
    "  }\n",
    "\n",
    "  imwrite(\"EnlightenedNermalWithBook.png\", img);\n",
    "\n",
    "  return 0;\n",
    "}"
   ]
  },
  {
   "cell_type": "markdown",
   "metadata": {},
   "source": [
    "***\n",
    "\n",
    "### Build and Run\n",
    "Select the cell below and click Run ▶ to compile and execute the code above:"
   ]
  },
  {
   "cell_type": "code",
   "execution_count": null,
   "metadata": {},
   "outputs": [],
   "source": [
    "! chmod 755 q; chmod 755 run_hello.sh;if [ -x \"$(command -v qsub)\" ]; then ./q run_hello.sh; else ./run_hello.sh; fi"
   ]
  },
  {
   "cell_type": "markdown",
   "metadata": {},
   "source": [
    "_If the Jupyter cells are not responsive or if they error out when you compile the code samples, please restart the Jupyter Kernel: \n",
    "\"Kernel->Restart Kernel and Clear All Outputs\" and compile the code samples again_\n",
    "\n",
    "***\n",
    "\n",
    "Wait for the above to be DONE before proceeding... or else the output image will not be ready to view!"
   ]
  },
  {
   "cell_type": "markdown",
   "metadata": {},
   "source": [
    "## Hello Nermal (a Kitten with a Book)\n",
    "The orginal image looks like this:\n",
    "\n",
    "<img src=\"Assets/NermalWithBook540.jpg\">"
   ]
  },
  {
   "cell_type": "markdown",
   "metadata": {},
   "source": [
    "The output image looks like this (select this cell and click Run ▶ to refresh the image):\n",
    "\n",
    "<img src=\"EnlightenedNermalWithBook.png\">"
   ]
  },
  {
   "cell_type": "markdown",
   "metadata": {},
   "source": [
    "***\n",
    "\n",
    "## Additional resources realted to this xpublog\n",
    "\n",
    "* [Link back to the main text and video for this xpublog](http://software.intel.com/NOTFOUND \"TBD\")\n",
    "* [Link to github where this code is kept](https://github.com/jamesreinders/xpublog \"github repository\")\n",
    "\n",
    "#### Training for Intel® oneAPI\n",
    "* [More extensive DevCloud+Jupyter for oneAPI](https://devcloud.intel.com/oneapi/get_started/baseTrainingModules/ \"oneAPI basic training in Jupyter\")\n",
    "* [Beyond the basics - training for oneAPI](https://software.intel.com/content/www/us/en/develop/tools/oneapi/training.html \"oneAPI training\")\n",
    "\n",
    "#### Installing Intel® oneAPI on your own systems\n",
    "* [Get Started with oneAPI for Linux*](https://software.intel.com/en-us/get-started-with-intel-oneapi-linux \"Install / your / own!\")\n",
    "* [Get Started with oneAPI for Windows*](https://software.intel.com/en-us/get-started-with-intel-oneapi-windows \"Install \\ your \\ own!\")\n",
    "\n",
    "#### Open books, magazine, and standards\n",
    "* [Data Parallel C++ / SYCL Book](https://link.springer.com/book/10.1007%2F978-1-4842-5574-2 \"download the (free) book, do not wait for the movie\")\n",
    "* [Parallel Universe - long standing journal of interesting articles](https://software.intel.com/content/www/us/en/develop/tools/parallel-universe-magazine.html \"Parallel or Perish!\")\n",
    "* [oneAPI Specification elements](https://www.oneapi.com/spec/ \"oneAPI specification for multivendor open support for XPUs\")\n",
    "* [SYCL Specification](https://www.khronos.org/registry/SYCL/ \"SYCL standard\")\n",
    "* [OpenCV](https://docs.opencv.org/master/index.html \"OpenCV\")\n",
    "* [openVINO](https://docs.openvinotoolkit.org/latest/index.html \"OpenVINO\")\n"
   ]
  },
  {
   "cell_type": "markdown",
   "metadata": {},
   "source": [
    "***\n",
    "## Reset Notebook\n",
    "\n",
    "If you are experiencing any issues with your notebook, or if you just want to start fresh, run the below cell."
   ]
  },
  {
   "cell_type": "code",
   "execution_count": null,
   "metadata": {},
   "outputs": [],
   "source": [
    "from IPython.display import display, Markdown, clear_output\n",
    "import ipywidgets as widgets\n",
    "button = widgets.Button(\n",
    "    description='Reset Notebook',\n",
    "    disabled=False,\n",
    "    button_style='', # 'success', 'info', 'warning', 'danger' or ''\n",
    "    tooltip='This will update this notebook, overwriting any changes.',\n",
    "    icon='check' # (FontAwesome names without the `fa-` prefix)\n",
    ")\n",
    "out = widgets.Output()\n",
    "def on_button_clicked(_):\n",
    "      # \"linking function with output\"\n",
    "      with out:\n",
    "          # what happens when we press the button\n",
    "          clear_output()\n",
    "          !rsync -a --size-only /data/xpublog/0001_Hello_SYCL/ ~/xpublog/0001_Hello_SYCL\n",
    "          print('Notebook reset -- now click reload on browser.')\n",
    "# linking button and function together using a button's method\n",
    "button.on_click(on_button_clicked)\n",
    "# displaying button and its output together\n",
    "widgets.VBox([button,out])"
   ]
  },
  {
   "cell_type": "markdown",
   "metadata": {},
   "source": [
    "***"
   ]
  },
  {
   "cell_type": "code",
   "execution_count": null,
   "metadata": {},
   "outputs": [],
   "source": []
  }
 ],
 "metadata": {
  "kernelspec": {
   "display_name": "Python 3.7 (Intel® oneAPI)",
   "language": "python",
   "name": "c009-intel_distribution_of_python_3_oneapi-beta05-python"
  },
  "language_info": {
   "codemirror_mode": {
    "name": "ipython",
    "version": 3
   },
   "file_extension": ".py",
   "mimetype": "text/x-python",
   "name": "python",
   "nbconvert_exporter": "python",
   "pygments_lexer": "ipython3",
   "version": "3.7.9"
  },
  "toc": {
   "base_numbering": 1,
   "nav_menu": {},
   "number_sections": true,
   "sideBar": true,
   "skip_h1_title": false,
   "title_cell": "Table of Contents",
   "title_sidebar": "Contents",
   "toc_cell": false,
   "toc_position": {
    "height": "525.6px",
    "left": "28px",
    "top": "137.8px",
    "width": "301.109px"
   },
   "toc_section_display": true,
   "toc_window_display": true
  },
  "widgets": {
   "application/vnd.jupyter.widget-state+json": {
    "state": {},
    "version_major": 2,
    "version_minor": 0
   }
  }
 },
 "nbformat": 4,
 "nbformat_minor": 4
}
