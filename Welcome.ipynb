{
 "cells": [
  {
   "cell_type": "markdown",
   "metadata": {},
   "source": [
    "# xpublog code samples on DevCloud + Jupyter"
   ]
  },
  {
   "cell_type": "markdown",
   "metadata": {},
   "source": [
    "Explorations by James Reinders."
   ]
  },
  {
   "cell_type": "markdown",
   "metadata": {},
   "source": [
    "***\n",
    "\n",
    "##  New to Jupyter?\n",
    "\n",
    "For the most part... just click the run icon (▶) in the little panel of buttons at the top of this browser pane. The panel looks something like this (where play is the sixth item):<br/><img src=\"Assets/jupyter.buttons.png\">\n",
    "    \n",
    "Click the ▶ button over and over... and soon you will have compiled, run, and viewed the output of this SYCL program compiled by the DPC++ compiler.  Now that you know about the little panel of buttons, you should be unstoppable.\n",
    "\n",
    "***\n",
    "\n",
    "## Refresh Your Jupyter Notebooks\n",
    "To make sure you have the latest xpublog entries... run the cell below to get latest and replace with latest version of xpublog and oneAPI Essentials Modules:"
   ]
  },
  {
   "cell_type": "code",
   "execution_count": null,
   "metadata": {},
   "outputs": [],
   "source": [
    "!/data/oneapi_workshop/get_jupyter_notebooks.sh | grep copying; echo \"Copying is DONE\""
   ]
  },
  {
   "cell_type": "markdown",
   "metadata": {},
   "source": [
    "xpublog notes...\n",
    "\n",
    "***\n",
    "\n",
    "## xpublog 3 [Hello SYCL and DPC++](0003_Hello_SYCL/HelloSYCL.ipynb)\n",
    "Hello SYCL and DPC++. Alternately, Hello Nermal the Kitten - we are here to lighten you up."
   ]
  },
  {
   "cell_type": "markdown",
   "metadata": {},
   "source": [
    "***\n",
    "\n",
    "## xpublog future...\n",
    "Watch here for future installments (run the \"Refresh\" above to make sure you have the latest and greatest)"
   ]
  },
  {
   "cell_type": "markdown",
   "metadata": {},
   "source": [
    "***"
   ]
  },
  {
   "cell_type": "code",
   "execution_count": null,
   "metadata": {},
   "outputs": [],
   "source": []
  }
 ],
 "metadata": {
  "kernelspec": {
   "display_name": "Python 3.7 (Intel® oneAPI)",
   "language": "python",
   "name": "c009-intel_distribution_of_python_3_oneapi-beta05-python"
  },
  "language_info": {
   "codemirror_mode": {
    "name": "ipython",
    "version": 3
   },
   "file_extension": ".py",
   "mimetype": "text/x-python",
   "name": "python",
   "nbconvert_exporter": "python",
   "pygments_lexer": "ipython3",
   "version": "3.7.9"
  },
  "toc": {
   "base_numbering": 1,
   "nav_menu": {},
   "number_sections": true,
   "sideBar": true,
   "skip_h1_title": false,
   "title_cell": "Table of Contents",
   "title_sidebar": "Contents",
   "toc_cell": false,
   "toc_position": {
    "height": "calc(100% - 180px)",
    "left": "10px",
    "top": "150px",
    "width": "384.391px"
   },
   "toc_section_display": true,
   "toc_window_display": true
  }
 },
 "nbformat": 4,
 "nbformat_minor": 4
}
