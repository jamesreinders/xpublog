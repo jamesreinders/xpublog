{
 "cells": [
  {
   "cell_type": "markdown",
   "metadata": {},
   "source": [
    "# SYCL Queues"
   ]
  },
  {
   "cell_type": "markdown",
   "metadata": {},
   "source": [
    "***\n",
    "In this xpublog, we reuse our 'Nermal lighten up' program from the prior xpublog, but apply it to run on an FPGA (emulated in this lab so it runs quickly for our learning exercise).\n",
    "\n",
    "***\n",
    "\n",
    "##  New to Jupyter?\n",
    "\n",
    "For the most part... just click the run icon (▶) in the little panel of buttons at the top of this browser pane. The panel looks something like this (where play is the sixth item):<br/><img src=\"Assets/jupyter.buttons.png\">\n",
    "    \n",
    "Click the ▶ button over and over... and soon you will have compiled, run, and viewed the output of this SYCL program compiled by the DPC++ compiler.  Now that you know about the little panel of buttons, you should be unstoppable.\n",
    "    \n",
    "\n",
    "***\n",
    "\n",
    "##  Editing the hello.cpp code\n",
    "The Jupyter cell below with the gray background can be edited in-place and saved.\n",
    "\n",
    "The first line of the cell contains the command **%%writefile 'hello.cpp'** This tells the input cell to save the contents of the cell into a file named 'simple.cpp' in your current directory (usually your home directory). As we edit the cell and run it in the Jupyter notebook, it will save our changes into that file.\n",
    "\n",
    "The code below is some DPC++ code to get us started in the DevCloud environment. We can simply inspect the code - it is ready to run, no modifications necessary. Run the first cell to create the file, then run the cell below it to compile and execute the code.\n",
    "1. Inspect the code cell below, then click run ▶ to save the code to a file\n",
    "2. Run ▶ the cell in the __Build and Run__ section below the code snippet to compile and execute the code in the saved file"
   ]
  },
  {
   "cell_type": "code",
   "execution_count": 1,
   "metadata": {},
   "outputs": [
    {
     "name": "stdout",
     "output_type": "stream",
     "text": [
      "Overwriting lab/hello.cpp\n"
     ]
    }
   ],
   "source": [
    "%%writefile lab/hello.cpp\n",
    "//==============================================================\n",
    "// Copyright © 2021 Intel Corporation\n",
    "//\n",
    "// SPDX-License-Identifier: MIT\n",
    "// =============================================================\n",
    "#include <opencv2/core.hpp>\n",
    "#include <opencv2/imgcodecs.hpp>\n",
    "#include <opencv2/highgui.hpp>\n",
    "#include <iostream>\n",
    "#include <algorithm>\n",
    "#include <CL/sycl.hpp>\n",
    "\n",
    "  // NEW include FOR THIS EXERCISE - so we can use Intel FPGA as a target\n",
    "#include <CL/sycl/INTEL/fpga_extensions.hpp>\n",
    "\n",
    "using namespace cv;\n",
    "using namespace std;\n",
    "using namespace sycl;\n",
    "\n",
    "int main(){\n",
    "  string image_path = \"NermalWithBook540.jpg\";\n",
    "\n",
    "  // NEW (2 lines) FOR THIS EXERCISE (was just \"queue q;\" before) - now we use the FPGA emulator\n",
    "  INTEL::fpga_emulator_selector my_selector;\n",
    "  queue q( my_selector );\n",
    "\n",
    "  // for this exercise, we did not control what type of device we are offloading to,\n",
    "  // so this output will tell us what we were assigned\n",
    "  std::cout << \"Device: \" << q.get_device().get_info<info::device::name>() << std::endl;\n",
    "\n",
    "  Mat img = imread(image_path, IMREAD_COLOR);\n",
    "  if(img.empty()) {\n",
    "    std::cout << \"Could not read the image: \" << image_path << std::endl;\n",
    "    return 1;\n",
    "  }\n",
    "\n",
    "  {\n",
    "    CV_Assert(img.isContinuous());\n",
    "    CV_CheckTypeEQ(img.type(), CV_8UC3, \"\");\n",
    "    buffer<uint8_t, 3> frame_buffer(img.data, range<3>(img.rows, img.cols, 3));\n",
    "\n",
    "    q.submit([&](handler& cgh) {\n",
    "      auto pixels = frame_buffer.get_access<access::mode::read_write>(cgh);\n",
    "      cgh.parallel_for(range<3>(img.rows, img.cols, 3), [=](item<3> item) {\n",
    "        uint8_t p = pixels[item];\n",
    "        pixels[item] = sycl::clamp(p+50,0,255);\n",
    "      });\n",
    "    });\n",
    "    q.wait_and_throw();\n",
    "  }\n",
    "\n",
    "  imwrite(\"EnlightenedNermalWithBook.png\", img);\n",
    "\n",
    "  return 0;\n",
    "}"
   ]
  },
  {
   "cell_type": "markdown",
   "metadata": {},
   "source": [
    "***\n",
    "\n",
    "### Build and Run\n",
    "Select the cell below and click Run ▶ to compile and execute the code above:"
   ]
  },
  {
   "cell_type": "code",
   "execution_count": 2,
   "metadata": {},
   "outputs": [
    {
     "name": "stdout",
     "output_type": "stream",
     "text": [
      "Job has been submitted to Intel(R) DevCloud and will execute soon.\n",
      "\n",
      " If you do not see result in 60 seconds, please restart the Jupyter kernel:\n",
      " Kernel -> 'Restart Kernel and Clear All Outputs...' and then try again\n",
      "\n",
      "Job ID                    Name             User            Time Use S Queue\n",
      "------------------------- ---------------- --------------- -------- - -----\n",
      "967592.v-qsvr-1            STDIN            u64004          00:00:24 R batch          \n",
      "967606.v-qsvr-1            ...ub-singleuser u64004          00:00:27 R jupyterhub     \n",
      "967627.v-qsvr-1            ...o.fpga_emu.sh u64004                 0 Q batch          \n",
      "\n",
      "Waiting for Output ████████████████████████████████████████ Done⬇\n",
      "\n",
      "########################################################################\n",
      "#      Date:           Tue 14 Sep 2021 08:23:51 PM PDT\n",
      "#    Job ID:           967627.v-qsvr-1.aidevcloud\n",
      "#      User:           u64004\n",
      "# Resources:           neednodes=1:gpu:ppn=2,nodes=1:gpu:ppn=2,walltime=06:00:00\n",
      "########################################################################\n",
      "\n",
      ":: WARNING: setvars.sh has already been run. Skipping re-execution.\n",
      "   To force a re-execution of setvars.sh, use the '--force' option.\n",
      "   Using '--force' can result in excessive use of your environment variables.\n",
      "## u64004 is compiling xpublog 4 -- Hello SYCL for FPGA emulator - hello.cpp\n",
      "dpcpp -L /opt/intel/openvino/deployment_tools/inference_engine/external/tbb/lib -ferror-limit=1 -Wno-pass-failed -I /opt/intel/openvino/opencv/include/ -L /opt/intel/openvino/opencv/lib -tbb -lopencv_core -lopencv_highgui -lopencv_imgproc -lopencv_imgcodecs -fintelfpga lab/hello.cpp -o bin/hello.fpga_emu -DFPGA_EMULATOR=1\n",
      "## u64004 is running xpublog 4 -- Hello SYCL for FPGA emulator - hello.cpp\n",
      "rm -f EnlightenedNermalWithBook.png\n",
      "cp -p Assets/NermalWithBook540.jpg .\n",
      "LD_LIBRARY_PATH=:/opt/intel/openvino/deployment_tools/inference_engine/external/tbb/lib:/opt/intel/openvino_2021/opencv/lib:/opt/intel/inteloneapi/intelfpgadpcpp/latest/board/intel_a10gx_pac/linux64/lib:/glob/development-tools/versions/oneapi/2021.3.0/inteloneapi/vpl/2021.4.0/lib:/glob/development-tools/versions/oneapi/2021.3.0/inteloneapi/tbb/2021.3.0/env/../lib/intel64/gcc4.8:/glob/development-tools/versions/oneapi/2021.3.0/inteloneapi/rkcommon/1.6.1/lib:/glob/development-tools/versions/oneapi/2021.3.0/inteloneapi/ospray_studio/0.7.0/lib:/glob/development-tools/versions/oneapi/2021.3.0/inteloneapi/ospray/2.6.0/lib:/glob/development-tools/versions/oneapi/2021.3.0/inteloneapi/openvkl/0.13.0/lib:/glob/development-tools/versions/oneapi/2021.3.0/inteloneapi/oidn/1.4.0/lib:/glob/development-tools/versions/oneapi/2021.3.0/inteloneapi/mpi/2021.3.0//libfabric/lib:/glob/development-tools/versions/oneapi/2021.3.0/inteloneapi/mpi/2021.3.0//lib/release:/glob/development-tools/versions/oneapi/2021.3.0/inteloneapi/mpi/2021.3.0//lib:/glob/development-tools/versions/oneapi/2021.3.0/inteloneapi/mkl/2021.3.0/lib/intel64:/glob/development-tools/versions/oneapi/2021.3.0/inteloneapi/itac/2021.3.0/slib:/glob/development-tools/versions/oneapi/2021.3.0/inteloneapi/ipp/2021.3.0/lib/intel64:/glob/development-tools/versions/oneapi/2021.3.0/inteloneapi/ippcp/2021.3.0/lib/intel64:/glob/development-tools/versions/oneapi/2021.3.0/inteloneapi/ipp/2021.3.0/lib/intel64:/glob/development-tools/versions/oneapi/2021.3.0/inteloneapi/embree/3.13.0/lib:/glob/development-tools/versions/oneapi/2021.3.0/inteloneapi/dnnl/2021.3.0/cpu_dpcpp_gpu_dpcpp/lib:/glob/development-tools/versions/oneapi/2021.3.0/inteloneapi/debugger/10.1.2/gdb/intel64/lib:/glob/development-tools/versions/oneapi/2021.3.0/inteloneapi/debugger/10.1.2/libipt/intel64/lib:/glob/development-tools/versions/oneapi/2021.3.0/inteloneapi/debugger/10.1.2/dep/lib:/glob/development-tools/versions/oneapi/2021.3.0/inteloneapi/dal/2021.3.0/lib/intel64:/glob/development-tools/versions/oneapi/2021.3.0/inteloneapi/compiler/2021.3.0/linux/lib:/glob/development-tools/versions/oneapi/2021.3.0/inteloneapi/compiler/2021.3.0/linux/lib/x64:/glob/development-tools/versions/oneapi/2021.3.0/inteloneapi/compiler/2021.3.0/linux/lib/emu:/glob/development-tools/versions/oneapi/2021.3.0/inteloneapi/compiler/2021.3.0/linux/lib/oclfpga/host/linux64/lib:/glob/development-tools/versions/oneapi/2021.3.0/inteloneapi/compiler/2021.3.0/linux/lib/oclfpga/linux64/lib:/glob/development-tools/versions/oneapi/2021.3.0/inteloneapi/compiler/2021.3.0/linux/compiler/lib/intel64_lin:/glob/development-tools/versions/oneapi/2021.3.0/inteloneapi/ccl/2021.3.0/lib/cpu_gpu_dpcpp bin/hello.fpga_emu\n",
      "Device: Intel(R) FPGA Emulation Device\n",
      "cp -p EnlightenedNermalWithBook.png EnlightenedNermalWithBook.png.from_fpga_emu.png\n",
      "\n",
      "########################################################################\n",
      "# End of output for job 967627.v-qsvr-1.aidevcloud\n",
      "# Date: Tue 14 Sep 2021 08:24:25 PM PDT\n",
      "########################################################################\n",
      "\n",
      "Job Completed in 40 seconds.\n"
     ]
    }
   ],
   "source": [
    "! chmod 755 q; chmod 755 run_hello.sh;if [ -x \"$(command -v qsub)\" ]; then ./q build_and_run_hello.fpga_emu.sh; else ./build_and_run_hello.fpga_emu.sh; fi"
   ]
  },
  {
   "cell_type": "markdown",
   "metadata": {},
   "source": [
    "_If the Jupyter cells are not responsive or if they error out when you compile the code samples, please restart the Jupyter Kernel: \n",
    "\"Kernel->Restart Kernel and Clear All Outputs\" and compile the code samples again_\n",
    "\n",
    "***\n",
    "\n",
    "Wait for the above to be DONE before proceeding... or else the output image will not be ready to view!"
   ]
  },
  {
   "cell_type": "markdown",
   "metadata": {},
   "source": [
    "## Hello Nermal (a Kitten with a Book)\n",
    "The orginal image looks like this:\n",
    "\n",
    "<img src=\"Assets/NermalWithBook540.jpg\">"
   ]
  },
  {
   "cell_type": "markdown",
   "metadata": {},
   "source": [
    "The output image looks like this (select this cell and click Run ▶ to refresh the image):\n",
    "\n",
    "<img src=\"EnlightenedNermalWithBook.png.from_fpga_emu.png\">"
   ]
  },
  {
   "cell_type": "markdown",
   "metadata": {},
   "source": [
    "***\n",
    "\n",
    "## Additional resources realted to this xpublog\n",
    "\n",
    "* [Link back to the main text and video for this xpublog](https://software.intel.com/content/www/us/en/develop/articles/xpublog0004-queues.html \"xpublug 4 - Queues\")\n",
    "* [Link to github where this code is kept](https://github.com/jamesreinders/xpublog \"github repository\")\n",
    "\n",
    "#### Training for Intel® oneAPI\n",
    "* [More extensive DevCloud+Jupyter for oneAPI](https://devcloud.intel.com/oneapi/get_started/baseTrainingModules/ \"oneAPI basic training in Jupyter\")\n",
    "* [Beyond the basics - training for oneAPI](https://software.intel.com/content/www/us/en/develop/tools/oneapi/training.html \"oneAPI training\")\n",
    "\n",
    "#### Installing Intel® oneAPI on your own systems\n",
    "* [Get Started with oneAPI for Linux*](https://software.intel.com/en-us/get-started-with-intel-oneapi-linux \"Install / your / own!\")\n",
    "* [Get Started with oneAPI for Windows*](https://software.intel.com/en-us/get-started-with-intel-oneapi-windows \"Install \\ your \\ own!\")\n",
    "\n",
    "#### Open books, magazine, and standards\n",
    "* [Data Parallel C++ / SYCL Book](https://link.springer.com/book/10.1007%2F978-1-4842-5574-2 \"download the (free) book, do not wait for the movie\")\n",
    "* [Parallel Universe - long standing journal of interesting articles](https://software.intel.com/content/www/us/en/develop/tools/parallel-universe-magazine.html \"Parallel or Perish!\")\n",
    "* [oneAPI Specification elements](https://www.oneapi.com/spec/ \"oneAPI specification for multivendor open support for XPUs\")\n",
    "* [SYCL Specification](https://www.khronos.org/registry/SYCL/ \"SYCL standard\")\n",
    "* [OpenCV](https://docs.opencv.org/master/index.html \"OpenCV\")\n",
    "* [openVINO](https://docs.openvinotoolkit.org/latest/index.html \"OpenVINO\")\n"
   ]
  },
  {
   "cell_type": "markdown",
   "metadata": {},
   "source": [
    "***\n",
    "## Reset Notebook\n",
    "\n",
    "If you are experiencing any issues with your notebook, or if you just want to start fresh, run the below cell."
   ]
  },
  {
   "cell_type": "code",
   "execution_count": null,
   "metadata": {},
   "outputs": [],
   "source": [
    "from IPython.display import display, Markdown, clear_output\n",
    "import ipywidgets as widgets\n",
    "button = widgets.Button(\n",
    "    description='Reset Notebook',\n",
    "    disabled=False,\n",
    "    button_style='', # 'success', 'info', 'warning', 'danger' or ''\n",
    "    tooltip='This will update this notebook, overwriting any changes.',\n",
    "    icon='check' # (FontAwesome names without the `fa-` prefix)\n",
    ")\n",
    "out = widgets.Output()\n",
    "def on_button_clicked(_):\n",
    "      # \"linking function with output\"\n",
    "      with out:\n",
    "          # what happens when we press the button\n",
    "          clear_output()\n",
    "          !rsync -a --size-only /data/xpublog/0001_Hello_SYCL/ ~/xpublog/0001_Hello_SYCL\n",
    "          print('Notebook reset -- now click reload on browser.')\n",
    "# linking button and function together using a button's method\n",
    "button.on_click(on_button_clicked)\n",
    "# displaying button and its output together\n",
    "widgets.VBox([button,out])"
   ]
  },
  {
   "cell_type": "markdown",
   "metadata": {},
   "source": [
    "***"
   ]
  },
  {
   "cell_type": "code",
   "execution_count": null,
   "metadata": {},
   "outputs": [],
   "source": []
  }
 ],
 "metadata": {
  "kernelspec": {
   "display_name": "Python 3.7 (Intel® oneAPI)",
   "language": "python",
   "name": "c009-intel_distribution_of_python_3_oneapi-beta05-python"
  },
  "language_info": {
   "codemirror_mode": {
    "name": "ipython",
    "version": 3
   },
   "file_extension": ".py",
   "mimetype": "text/x-python",
   "name": "python",
   "nbconvert_exporter": "python",
   "pygments_lexer": "ipython3",
   "version": "3.7.10"
  },
  "toc": {
   "base_numbering": 1,
   "nav_menu": {},
   "number_sections": true,
   "sideBar": true,
   "skip_h1_title": false,
   "title_cell": "Table of Contents",
   "title_sidebar": "Contents",
   "toc_cell": false,
   "toc_position": {
    "height": "525.6px",
    "left": "28px",
    "top": "137.8px",
    "width": "301.109px"
   },
   "toc_section_display": true,
   "toc_window_display": true
  },
  "widgets": {
   "application/vnd.jupyter.widget-state+json": {
    "state": {},
    "version_major": 2,
    "version_minor": 0
   }
  }
 },
 "nbformat": 4,
 "nbformat_minor": 4
}
